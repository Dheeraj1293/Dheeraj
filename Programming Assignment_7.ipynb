{
 "cells": [
  {
   "cell_type": "raw",
   "id": "872b9f50",
   "metadata": {},
   "source": [
    "Q1. Write a Python Program to find sum of array?"
   ]
  },
  {
   "cell_type": "code",
   "execution_count": 1,
   "id": "1b9cec75",
   "metadata": {},
   "outputs": [
    {
     "name": "stdout",
     "output_type": "stream",
     "text": [
      "sum: 15\n"
     ]
    }
   ],
   "source": [
    "given_array=[1,2,3,4,5]\n",
    "sum=0\n",
    "for i in range(len(given_array)):\n",
    "    sum=sum+given_array[i]\n",
    "\n",
    "print(\"sum:\",sum)"
   ]
  },
  {
   "cell_type": "raw",
   "id": "8507e8f5",
   "metadata": {},
   "source": [
    "Q2. Write a Python Program to find largest element in an array?"
   ]
  },
  {
   "cell_type": "code",
   "execution_count": 5,
   "id": "bb4b1b32",
   "metadata": {},
   "outputs": [
    {
     "name": "stdout",
     "output_type": "stream",
     "text": [
      "largest element: 9\n"
     ]
    }
   ],
   "source": [
    "array=[2,5,8,9,3]\n",
    "print(\"largest element:\",max(array))"
   ]
  },
  {
   "cell_type": "raw",
   "id": "2e8f17bd",
   "metadata": {},
   "source": [
    "Q3. Write a Python Program for array rotation?"
   ]
  },
  {
   "cell_type": "code",
   "execution_count": 13,
   "id": "1a6dbe8f",
   "metadata": {},
   "outputs": [
    {
     "name": "stdout",
     "output_type": "stream",
     "text": [
      "[6, 5, 4, 2, 1]\n"
     ]
    }
   ],
   "source": [
    "array1=[1,2,4,5,6]\n",
    "array2=[]\n",
    "l=len(array1)\n",
    "while l>0:\n",
    "    array2.append(array1[l-1])\n",
    "    l=l-1\n",
    "print(array2)"
   ]
  },
  {
   "cell_type": "raw",
   "id": "f9864d6d",
   "metadata": {},
   "source": [
    "Q4. Write a Python Program to Split the array and add the first part to the end?"
   ]
  },
  {
   "cell_type": "code",
   "execution_count": 24,
   "id": "e2190dfe",
   "metadata": {},
   "outputs": [
    {
     "name": "stdout",
     "output_type": "stream",
     "text": [
      "[3, 2, 1, 6, 5, 4]\n"
     ]
    }
   ],
   "source": [
    "arr1=[5,4,3,2,1,6]\n",
    "arr2=[]\n",
    "pos=2\n",
    "l=len(arr1)\n",
    "for pos in range(pos,l):\n",
    "    arr2.append(arr1[pos])\n",
    "pos=2\n",
    "for j in range(0,pos):\n",
    "    arr2.append(arr1[j])\n",
    "print(arr2)\n",
    "    "
   ]
  },
  {
   "cell_type": "raw",
   "id": "f0e7b228",
   "metadata": {},
   "source": [
    "Q5. Write a Python Program to check if given array is Monotonic?"
   ]
  },
  {
   "cell_type": "code",
   "execution_count": 18,
   "id": "497a8028",
   "metadata": {},
   "outputs": [],
   "source": [
    "def is_monotone(arr):\n",
    "    n=len(arr)\n",
    "    if n==1:\n",
    "        return 'monotone'\n",
    "    else:\n",
    "        if all(arr[i]>=arr[i+1] for i in range(0,n-1)):\n",
    "            return 'monotone'\n",
    "        elif all(arr[i]<=arr[i+1] for i in range(0,n-1)):\n",
    "            return 'monotone'\n",
    "        else:\n",
    "            return 'no monotone'"
   ]
  },
  {
   "cell_type": "code",
   "execution_count": 23,
   "id": "3d2c74ef",
   "metadata": {},
   "outputs": [
    {
     "name": "stdout",
     "output_type": "stream",
     "text": [
      "monotone\n",
      "monotone\n",
      "no monotone\n"
     ]
    }
   ],
   "source": [
    "arr= [10,9,8,7]\n",
    "print(is_monotone(arr))\n",
    "a=[7,8,9,10]\n",
    "print(is_monotone(a))\n",
    "b=[3,5,1,3,2]\n",
    "print(is_monotone(b))"
   ]
  }
 ],
 "metadata": {
  "kernelspec": {
   "display_name": "Python 3 (ipykernel)",
   "language": "python",
   "name": "python3"
  },
  "language_info": {
   "codemirror_mode": {
    "name": "ipython",
    "version": 3
   },
   "file_extension": ".py",
   "mimetype": "text/x-python",
   "name": "python",
   "nbconvert_exporter": "python",
   "pygments_lexer": "ipython3",
   "version": "3.9.12"
  }
 },
 "nbformat": 4,
 "nbformat_minor": 5
}
