{
 "cells": [
  {
   "cell_type": "raw",
   "metadata": {},
   "source": [
    "Q1. Write a Python program to print \"Hello Python\"?\n",
    "Ans - print(\"Hello Python\")\n",
    "\n",
    "Q2. Write a Python program to do arithmetical operations addition and division.?\n",
    "Ans - \n",
    "a = 5\n",
    "b = 5\n",
    "print(\"Addition :- \", a + b)\n",
    "print(\"Divison :- \", a / b)\n",
    "\n",
    "Q3. Write a Python program to find the area of a triangle?\n",
    "Ans - \n",
    "base = 5\n",
    "height = 6\n",
    "area = (base*height)/2\n",
    "print(area)\n",
    "\n",
    "Q4. Write a Python program to swap two variables?\n",
    "Ans- \n",
    "a = 5\n",
    "b = 10\n",
    "\n",
    "temp = a\n",
    "a = b\n",
    "b = temp\n",
    "\n",
    "print(\"Swaping two no \\n a :- {}\\n b :- {}\".format(a,b))\n",
    "\n",
    "Q5. Write a Python program to generate a random number?\n",
    "Ans- \n",
    "import random\n",
    "randint = random.random()\n",
    "print(randint)"
   ]
  }
 ],
 "metadata": {
  "kernelspec": {
   "display_name": "Python 3",
   "language": "python",
   "name": "python3"
  },
  "language_info": {
   "codemirror_mode": {
    "name": "ipython",
    "version": 3
   },
   "file_extension": ".py",
   "mimetype": "text/x-python",
   "name": "python",
   "nbconvert_exporter": "python",
   "pygments_lexer": "ipython3",
   "version": "3.7.0"
  }
 },
 "nbformat": 4,
 "nbformat_minor": 2
}
