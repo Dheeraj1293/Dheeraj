{
 "cells": [
  {
   "cell_type": "raw",
   "metadata": {},
   "source": [
    "1. Why are functions advantageous to have in your programs?\n",
    "Ans - Function reduces the need of duplicate code.Inspite of writing same code again & again just call the function whenever \n",
    "required.\n",
    "2. When does the code in a function run: when it's specified or when it's called?\n",
    "Ans - The code in a function run when the function is called.\n",
    "3. What statement creates a function?\n",
    "Ans - It consists of the name of a function followed by a list of arguments enclosed by parenthesis.\n",
    "4. What is the difference between a function and a function call?\n",
    "Ans - A function is procedure to achieve a particular result while function call using this function to achieve the task.\n",
    "5. How many global scopes are there in a Python program? How many local scopes?\n",
    "Ans - There is only one Python global scope per program execution. This scope remains in existence until the program terminates.\n",
    "Local scope is the code block. This Python scope contains the names that you define inside the function.\n",
    "6. What happens to variables in a local scope when the function call returns?\n",
    "Ans - When the execution of the function terminates(return), the local variables destroyed.\n",
    "7. What is the concept of a return value? Is it possible to have a return value in an expression?\n",
    "Ans - Return value means the values that a function returns when it has completed.\n",
    "8. If a function does not have a return statement, what is the return value of a call to that function?\n",
    "Ans - If function does not specify the return value, it returns none.\n",
    "9. How do you make a function variable refer to the global variable?\n",
    "Ans - By using global keyword before the variable name at start of function.\n",
    "10. What is the data type of None?\n",
    "Ans - None is used to define a null value. The datatype of None is Nonetype.\n",
    "11. What does the sentence import areallyourpetsnamederic do?\n",
    "Ans - This import statement mports a module named areallyourpetsnamederic.\n",
    "12. If you had a bacon() feature in a spam module, what would you call it after importing spam?\n",
    "Ans - This function can be called with spam.bacon()\n",
    "13. What can you do to save a programme from crashing if it encounters an error?\n",
    "Ans - Error Handling can be used to save a programme from crashing.\n",
    "14. What is the purpose of the try clause? What is the purpose of the except clause?\n",
    "Ans - It is used to test code for an error which is written in the \"try\" statement."
   ]
  }
 ],
 "metadata": {
  "kernelspec": {
   "display_name": "Python 3",
   "language": "python",
   "name": "python3"
  },
  "language_info": {
   "codemirror_mode": {
    "name": "ipython",
    "version": 3
   },
   "file_extension": ".py",
   "mimetype": "text/x-python",
   "name": "python",
   "nbconvert_exporter": "python",
   "pygments_lexer": "ipython3",
   "version": "3.7.0"
  }
 },
 "nbformat": 4,
 "nbformat_minor": 2
}
