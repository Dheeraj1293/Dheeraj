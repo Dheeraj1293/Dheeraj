{
 "cells": [
  {
   "cell_type": "raw",
   "metadata": {},
   "source": [
    "1. What are escape characters, and how do you use them?\n",
    "Ans - Escape characters stop the compiler from accepting part of string as a command and input. An escape character is backslash\n",
    "      \"\\\" followed by the character you want to insert.\n",
    "2. What do the escape characters n and t stand for?\n",
    "Ans - \\n is newline and \\t is a tab or indent.\n",
    "3. What is the way to include backslash characters in a string?\n",
    "Ans - By using two backslashes \\\\.\n",
    "4. The string \"Howl's Moving Castle\" is a correct value. Why isn't the single quote character in the word Howl's not escaped a    problem?\n",
    "Ans - Because the whole string is encapsulated by quotes.\n",
    "5. How do you write a string of newlines if you don't want to use the n character?\n",
    "Ans - New line in the OS package. Its called linesep.\n",
    "6. What are the values of the given expressions?\n",
    "    'Hello, world!'[1] = 'e'\n",
    "    'Hello, world!'[0:5] = 'Hello'\n",
    "    'Hello, world!'[:5] = 'Hello'\n",
    "    'Hello, world!'[3:] = 'lo, world!'\n",
    "7. What are the values of the following expressions?\n",
    "    'Hello'.upper() = 'HELLO'\n",
    "    'Hello'.upper().isupper() = True\n",
    "    'Hello'.upper().lower() = 'hello'\n",
    "8. What are the values of the following expressions?\n",
    "    'Remember, remember, the fifth of July.'.split() = ['Remember,', 'remember,', 'the', 'fifth', 'of', 'July.']\n",
    "    '-'.join('There can only one.'.split()) = 'There-can-only-one.'\n",
    "9. What are the methods for right-justifying, left-justifying, and centering a string?\n",
    "Ans - The functions ljust(), rjust() and center() is used.\n",
    "10. What is the best way to remove whitespace characters from the start or end?\n",
    "Ans - strip(), rstrip() and lstrip()"
   ]
  },
  {
   "cell_type": "code",
   "execution_count": 9,
   "metadata": {},
   "outputs": [
    {
     "data": {
      "text/plain": [
       "'There-can-only-one.'"
      ]
     },
     "execution_count": 9,
     "metadata": {},
     "output_type": "execute_result"
    }
   ],
   "source": [
    "'-'.join('There can only one.'.split())"
   ]
  },
  {
   "cell_type": "code",
   "execution_count": null,
   "metadata": {},
   "outputs": [],
   "source": []
  }
 ],
 "metadata": {
  "kernelspec": {
   "display_name": "Python 3",
   "language": "python",
   "name": "python3"
  },
  "language_info": {
   "codemirror_mode": {
    "name": "ipython",
    "version": 3
   },
   "file_extension": ".py",
   "mimetype": "text/x-python",
   "name": "python",
   "nbconvert_exporter": "python",
   "pygments_lexer": "ipython3",
   "version": "3.7.0"
  }
 },
 "nbformat": 4,
 "nbformat_minor": 2
}
