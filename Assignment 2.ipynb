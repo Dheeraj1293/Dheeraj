{
 "cells": [
  {
   "cell_type": "raw",
   "metadata": {},
   "source": [
    "1.What are the two values of the Boolean data type? How do you write them?\n",
    "Ans- Boolean datatype represents two values TRUE and FALSE and also written in the same way."
   ]
  },
  {
   "cell_type": "raw",
   "metadata": {},
   "source": [
    "2. What are the three different types of Boolean operators?\n",
    "Ans- The three Boolean operators are AND, OR and NOT."
   ]
  },
  {
   "cell_type": "raw",
   "metadata": {},
   "source": [
    "3. Make a list of each Boolean operator's truth tables (i.e. every possible combination of Boolean values for the operator \n",
    "   and what it evaluate)\n",
    "Ans-     AND OPERATOR\t\t\t\tOR OPERATOR\t\t\t\tNOT OPERATOR\t\n",
    "    INPUT1\tINPUT2\tOUTPUT\t\tINPUT1\tINPUT2\tOUTPUT\t\tINPUT\tOUTPUT\n",
    "    TRUE\tFALSE\tFALSE\t\tTRUE\tFALSE\tTRUE\t\tTRUE\tFALSE\n",
    "    FALSE\tTRUE\tFALSE\t\tFALSE\tTRUE\tTRUE\t\tFALSE\tTRUE\n",
    "    TRUE\tTRUE\tTRUE\t\tTRUE\tTRUE\tTRUE\t\t\t"
   ]
  },
  {
   "cell_type": "raw",
   "metadata": {},
   "source": [
    "4. What are the values of the following expressions?\n",
    "(5 > 4) and (3 == 5) = FALSE\n",
    "not (5 > 4) = FALSE\n",
    "(5 > 4) or (3 == 5) = TRUE\n",
    "not ((5 > 4) or (3 == 5)) = FALSE\n",
    "(True and True) and (True == False) = FALSE\n",
    "(not False) or (not True) = TRUE"
   ]
  },
  {
   "cell_type": "raw",
   "metadata": {},
   "source": [
    "5. What are the six comparison operators?\n",
    "Ans- The six comparison operators are equal to(=), not equal to(!=), greater than(>), greater than or equal to(>=), less than        and less than or equal to(<=)"
   ]
  },
  {
   "cell_type": "raw",
   "metadata": {},
   "source": [
    "6. How do you tell the difference between the equal to and assignment operators?Describe a condition and when you would use one.\n",
    "Ans- The \"=\" is an assignment operator is used to assign the value on the right to the variable on the left. The '==' operator \n",
    "     checks whether the two expressions on both sides are equal or not.\n",
    "     e.g. - a=6 (assigning the value 6 in variable a)\n",
    "            2==3 (O/P = FALSE)/checking two expression "
   ]
  },
  {
   "cell_type": "raw",
   "metadata": {},
   "source": [
    "7. Identify the three blocks in this code:\n",
    "spam = 0\n",
    "if spam == 10: | 1st block\n",
    "print('eggs')  | 1st block\n",
    "if spam > 5:   | 2nd block\n",
    "print('bacon') | 2nd block\n",
    "else:          | 3rd block\n",
    "print('ham')   | 3rd block\n",
    "print('spam')  | 3rd block\n",
    "print('spam')  | 3rd block"
   ]
  },
  {
   "cell_type": "raw",
   "metadata": {},
   "source": [
    "8. Write code that prints Hello if 1 is stored in spam, prints Howdy if 2 is stored in spam, and prints\n",
    "   Greetings! if anything else is stored in spam.\n",
    "Ans- if spam == 1:\n",
    "    print('Hello')\n",
    "    if spam == 2:\n",
    "        print('Howdy')\n",
    "        else:\n",
    "            print('Greetings!')"
   ]
  },
  {
   "cell_type": "raw",
   "metadata": {},
   "source": [
    "9.If your programme is stuck in an endless loop, what keys you’ll press?\n",
    "Ans- CTRL + C"
   ]
  },
  {
   "cell_type": "raw",
   "metadata": {},
   "source": [
    "10. How can you tell the difference between break and continue?\n",
    "Ans- The 'break 'stop the continuation of the loop.The 'continue' does not stop the continuation of loop and it stops the current."
   ]
  },
  {
   "cell_type": "raw",
   "metadata": {},
   "source": [
    "11. In a for loop, what is the difference between range(10), range(0, 10), and range(0, 10, 1)?\n",
    "Ans- range(10)- User will get a series of numbers that starts at 0 and includes every whole number up to, but not including, \n",
    "     the number 10.\n",
    "     range(0,10)- User get to decide where the series of number stops.\n",
    "     range(0,10,1) - The user can choose not only where the series of numbers will start and stop but also how big the     \n",
    "     difference will be between one number and the next."
   ]
  },
  {
   "cell_type": "raw",
   "metadata": {},
   "source": [
    "12. Write a short program that prints the numbers 1 to 10 using a for loop. Then write an equivalent\n",
    "program that prints the numbers 1 to 10 using a while loop.\n",
    "\n",
    "Ans - for i in range(1, 11):\n",
    "      print(i)\n",
    "        \n",
    "      i = 1\n",
    "      while(i<=10):\n",
    "      print(i)\n",
    "      i += 1"
   ]
  },
  {
   "cell_type": "raw",
   "metadata": {},
   "source": [
    "13. If you had a function named bacon() inside a module named spam, how would you call it after importing spam?\n",
    "Ans- This function can be called with spam.bacon()"
   ]
  }
 ],
 "metadata": {
  "kernelspec": {
   "display_name": "Python 3",
   "language": "python",
   "name": "python3"
  },
  "language_info": {
   "codemirror_mode": {
    "name": "ipython",
    "version": 3
   },
   "file_extension": ".py",
   "mimetype": "text/x-python",
   "name": "python",
   "nbconvert_exporter": "python",
   "pygments_lexer": "ipython3",
   "version": "3.7.0"
  }
 },
 "nbformat": 4,
 "nbformat_minor": 2
}
