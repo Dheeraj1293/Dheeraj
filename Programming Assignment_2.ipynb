{
 "cells": [
  {
   "cell_type": "raw",
   "metadata": {},
   "source": [
    "Q1. Write a Python program to convert kilometers to miles?\n",
    "Ans - \n",
    "kilometers = float(input(\"Enter value in kilometers: \"))\n",
    "\n",
    "# conversion factor\n",
    "conv_fac = 0.621371\n",
    "\n",
    "# calculate miles\n",
    "miles = kilometers * conv_fac\n",
    "print('%0.2f kilometers is equal to %0.2f miles' %(kilometers,miles))\n",
    "\n",
    "Q2. Write a Python program to convert Celsius to Fahrenheit?\n",
    "Ans - \n",
    "celsius = 32\n",
    "\n",
    "# calculate fahrenheit\n",
    "fahrenheit = (celsius * 1.8) + 32\n",
    "print(\"%0.2f celsius is equal to %0.2f fahrenheit\"%(celsius,fahrenheit))\n",
    "\n",
    "Q3. Write a Python program to display calendar?\n",
    "Ans - \n",
    "import calendar\n",
    "\n",
    "year =2022\n",
    "month =2\n",
    "\n",
    "print(calendar.month(year,month))\n",
    "\n",
    "Q4. Write a Python program to solve quadratic equation?\n",
    "Ans- \n",
    "a = 2\n",
    "b = 2\n",
    "\n",
    "qe = (a**2 + b**2 +2*a*b)\n",
    "print(qe)\n",
    "\n",
    "Q5. Write a Python program to swap two variables without temp variable?\n",
    "Ans- \n",
    "a =2\n",
    "b =3\n",
    "\n",
    "a= a+b\n",
    "b =a-b\n",
    "a = a-b\n",
    "print(a)\n",
    "print(b)"
   ]
  },
  {
   "cell_type": "code",
   "execution_count": null,
   "metadata": {},
   "outputs": [],
   "source": []
  }
 ],
 "metadata": {
  "kernelspec": {
   "display_name": "Python 3",
   "language": "python",
   "name": "python3"
  },
  "language_info": {
   "codemirror_mode": {
    "name": "ipython",
    "version": 3
   },
   "file_extension": ".py",
   "mimetype": "text/x-python",
   "name": "python",
   "nbconvert_exporter": "python",
   "pygments_lexer": "ipython3",
   "version": "3.7.0"
  }
 },
 "nbformat": 4,
 "nbformat_minor": 2
}
