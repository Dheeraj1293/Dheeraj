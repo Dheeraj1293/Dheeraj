{
 "cells": [
  {
   "cell_type": "raw",
   "metadata": {},
   "source": [
    "1. Write a Python Program to Display Fibonacci Sequence Using Recursion?\n",
    "2. Write a Python Program to Find Factorial of Number Using Recursion?\n",
    "3. Write a Python Program to calculate your Body Mass Index?\n",
    "4. Write a Python Program to calculate the natural logarithm of any number?\n",
    "5. Write a Python Program for cube sum of first n natural numbers?"
   ]
  },
  {
   "cell_type": "code",
   "execution_count": 2,
   "metadata": {},
   "outputs": [
    {
     "name": "stdout",
     "output_type": "stream",
     "text": [
      "enter valid integer5\n",
      "0\n",
      "1\n",
      "1\n",
      "2\n",
      "3\n"
     ]
    }
   ],
   "source": [
    "# Display Fibonacci Sequence Using Recursion?\n",
    "def recursive_fibonacci(n):\n",
    "    if n<=1:\n",
    "        return(n)\n",
    "    else:\n",
    "        return(recursive_fibonacci(n-1)+recursive_fibonacci(n-2))\n",
    "num = int(input('enter valid integer'))\n",
    "for i in range(num):\n",
    "    print(recursive_fibonacci(i))\n",
    "    "
   ]
  },
  {
   "cell_type": "code",
   "execution_count": 3,
   "metadata": {},
   "outputs": [
    {
     "name": "stdout",
     "output_type": "stream",
     "text": [
      "enter number greater than zero4\n",
      "factorial of 4 is 24\n"
     ]
    }
   ],
   "source": [
    "#Program to Find Factorial of Number Using Recursion?\n",
    "def factorial(num):\n",
    "    if num==1:\n",
    "        return(1)\n",
    "    else:\n",
    "        return(num*factorial(num-1))\n",
    "num = int(input('enter number greater than zero'))\n",
    "if num==0:\n",
    "    print('factorial of',num,'is',num)\n",
    "elif num>=1:\n",
    "    print('factorial of',num,'is',factorial(num))   "
   ]
  },
  {
   "cell_type": "code",
   "execution_count": 19,
   "metadata": {},
   "outputs": [],
   "source": [
    "#Program to calculate your Body Mass Index?\n",
    "def BMI():\n",
    "    height= int(input('enter your height in cm'))\n",
    "    weight= int(input('enter your weight in kg'))\n",
    "    var= weight/((height/100)**2)\n",
    "    print('your body mass index is',var)\n",
    "    if var>24.9:\n",
    "        print('you are overweight')\n",
    "    elif var<18.5:\n",
    "        print('you are underweight')\n",
    "    else:\n",
    "        print('you are fit')"
   ]
  },
  {
   "cell_type": "code",
   "execution_count": 20,
   "metadata": {},
   "outputs": [
    {
     "name": "stdout",
     "output_type": "stream",
     "text": [
      "enter your height in cm165\n",
      "enter your weight in kg40\n",
      "your body mass index is 14.692378328741967\n",
      "you are underweight\n"
     ]
    }
   ],
   "source": [
    "BMI()"
   ]
  },
  {
   "cell_type": "code",
   "execution_count": 28,
   "metadata": {},
   "outputs": [
    {
     "name": "stdout",
     "output_type": "stream",
     "text": [
      "enter the number100\n",
      "the natural logarithm of number = 100 is 4.605170185988092\n"
     ]
    }
   ],
   "source": [
    "# Program to calculate the natural logarithm of any number?\n",
    "import math\n",
    "num= int(input('enter the number'))\n",
    "print('the natural logarithm of number =',num,'is',math.log(num))"
   ]
  },
  {
   "cell_type": "code",
   "execution_count": 30,
   "metadata": {},
   "outputs": [
    {
     "name": "stdout",
     "output_type": "stream",
     "text": [
      "enter the limit10\n",
      "cube sum of number 10 is= 3025\n"
     ]
    }
   ],
   "source": [
    "# Program for cube sum of first n natural numbers?\n",
    "num = int(input('enter the limit'))\n",
    "sum=0\n",
    "for i in range(1,num+1):\n",
    "    sum=sum+i**3\n",
    "print('cube sum of number',num,'is=',sum)"
   ]
  }
 ],
 "metadata": {
  "kernelspec": {
   "display_name": "Python 3",
   "language": "python",
   "name": "python3"
  },
  "language_info": {
   "codemirror_mode": {
    "name": "ipython",
    "version": 3
   },
   "file_extension": ".py",
   "mimetype": "text/x-python",
   "name": "python",
   "nbconvert_exporter": "python",
   "pygments_lexer": "ipython3",
   "version": "3.7.0"
  }
 },
 "nbformat": 4,
 "nbformat_minor": 2
}
