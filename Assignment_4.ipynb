{
 "cells": [
  {
   "cell_type": "raw",
   "metadata": {},
   "source": [
    "1. What exactly is []?\n",
    "Ans - This means an empty list.\n",
    "2. In a list of values stored in a variable called spam, how would you assign the value 'hello' as the\n",
    "third value? (Assume [2, 4, 6, 8, 10] are in spam.)\n",
    "Ans - spam.insert(2,'hello')\n",
    "3. What is the value of spam[int(int('3'* 2) / 11)]?\n",
    "Ans - spam=[2,4,6,8,10]\n",
    "      int(int('3'*2)/11)=3\n",
    "      spam[int(int('3'*2)/11)]=spam[3]\n",
    "      spam[3]=6\n",
    "4. What is the value of spam[-1]?\n",
    "Ans - spam= [2,4,6,8,10]\n",
    "      spam[-1]=10\n",
    "5. What is the value of spam[:2]?\n",
    "Ans - spam= [2,4,6,8,10]\n",
    "      spam[:2]= [2,4]\n",
    "6. What is the value of bacon.index('cat')?\n",
    "Ans - bacon= [3.14,'cat',11,'cat',True]\n",
    "      bacon.index('cat')=1\n",
    "7. How does bacon.append(99) change the look of the list value in bacon?\n",
    "Ans - O/P is - [3.14, 'cat', 11, 'cat', True, 99]\n",
    "8. How does bacon.remove('cat') change the look of the list in bacon?\n",
    "Ans - O/P is - [3.14,11,'cat',True,99]\n",
    "9. What are the list concatenation and list replication operators?\n",
    "Ans - List concatenation operator is +\n",
    "      List replication operator is *\n",
    "10. What is difference between the list methods append() and insert()?\n",
    "Ans - Insert function allows us to add a specific element at a specified index of the list unlike append() where we can add the\n",
    "      element at the end of the list.\n",
    "11. What are the two methods for removing items from a list?\n",
    "Ans - remove() - It removes first given element matching from the list.\n",
    "      pop() - It removes the element from the list based on the index given.\n",
    "      clear() - It removes all the elements present in the list.\n",
    "12. Describe how list values and string values are identical.\n",
    "Ans - The similarity between list and string is that both are sequences.\n",
    "The difference between them are firstly the lists are mutable but the strings are immutable. \n",
    "Secondly, the elements of list can be of different types whereas strings contain characters that are all of string type.\n",
    "13. What&#39;s the difference between tuples and lists?\n",
    "Ans - The tuples are immutable objects while the lists are mutable.\n",
    "14. How do you type a tuple value that only contains the integer 42?\n",
    "Ans - (42,)\n",
    "15. How do you get a list value from tuple? How do you get a tuple value from list?\n",
    "    Ans - By using tuple[index of list element] we can get a list value from tuple and by using list[index of tuple element]\n",
    "    we can get a tuple value from list.\n",
    "16. Variables that \"contain\" list values are not necessarily lists themselves. Instead, what do they\n",
    "contain?\n",
    "Ans - The variables contain references to list values rather than list values themselves.\n",
    "17. How do you distinguish between copy.copy() and copy.deepcopy()?\n",
    "Ans - copy.copy()- it is a bit wise copy of an object.\n",
    "      copy.deepcopy()- a reference of object is copied in other object."
   ]
  }
 ],
 "metadata": {
  "kernelspec": {
   "display_name": "Python 3",
   "language": "python",
   "name": "python3"
  },
  "language_info": {
   "codemirror_mode": {
    "name": "ipython",
    "version": 3
   },
   "file_extension": ".py",
   "mimetype": "text/x-python",
   "name": "python",
   "nbconvert_exporter": "python",
   "pygments_lexer": "ipython3",
   "version": "3.7.0"
  }
 },
 "nbformat": 4,
 "nbformat_minor": 2
}
