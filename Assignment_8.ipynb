{
 "cells": [
  {
   "cell_type": "raw",
   "id": "c6804d3b",
   "metadata": {},
   "source": [
    "Q1. Is the Python Standard Library included with PyInputPlus?"
   ]
  },
  {
   "cell_type": "raw",
   "id": "796503c0",
   "metadata": {},
   "source": [
    "PyInputPlus is not a part of Python Standard Library. We need to install it separately using Pip. "
   ]
  },
  {
   "cell_type": "raw",
   "id": "561dc8aa",
   "metadata": {},
   "source": [
    "Q2. Why is PyInputPlus commonly imported with import pyinputplus as pypi?"
   ]
  },
  {
   "cell_type": "raw",
   "id": "69147ce6",
   "metadata": {},
   "source": [
    "It saves us from typing PyInptPlus each time when we want to call a PyInputPlus function"
   ]
  },
  {
   "cell_type": "raw",
   "id": "057e3a0b",
   "metadata": {},
   "source": [
    "Q3.How do you distinguish between inputInt() and inputFloat()?"
   ]
  },
  {
   "cell_type": "raw",
   "id": "fa0f9ec3",
   "metadata": {},
   "source": [
    "inputInt()= Accepts an integer value. This also takes additional parameters 'min','max','greaterThan' and 'lessThan'\n",
    "inputFloat()= Accepts a floating point numeric value. THis also takes an additional parameters 'min','max','greaterThan' and 'lessThan'"
   ]
  },
  {
   "cell_type": "raw",
   "id": "f46cdfe2",
   "metadata": {},
   "source": [
    "Q4. Using PyInputPlus, how do you ensure that the user enters a whole number between 0 and 99?"
   ]
  },
  {
   "cell_type": "raw",
   "id": "1e93f68c",
   "metadata": {},
   "source": [
    "By using pyip.inputint(min=0,max=99)"
   ]
  },
  {
   "cell_type": "raw",
   "id": "fe018514",
   "metadata": {},
   "source": [
    "Q5. What is transferred to the keyword arguments allowRegexes and blockRegexes?"
   ]
  },
  {
   "cell_type": "raw",
   "id": "ffae2808",
   "metadata": {},
   "source": [
    "A list of regex strings that are either explicitly allowed or denied."
   ]
  },
  {
   "cell_type": "raw",
   "id": "2069e979",
   "metadata": {},
   "source": [
    "Q6. If a blank input is entered three times, what does inputStr(limit=3) do?"
   ]
  },
  {
   "cell_type": "raw",
   "id": "2e65ee3d",
   "metadata": {},
   "source": [
    "It will throw two exceptions ValidationException and RetryLimitException. The first exception is thrown because blank values are not allowed by inputStr() function by default. If want to consider blank values as valid input, we have to set blank=TRUE."
   ]
  },
  {
   "cell_type": "raw",
   "id": "e60ec993",
   "metadata": {},
   "source": [
    "Q7. If blank input is entered three times, what does inputStr(limit=3, default='hello') do?"
   ]
  },
  {
   "cell_type": "raw",
   "id": "27b4d4b2",
   "metadata": {},
   "source": [
    "Since the default parameter is set to hello, after blank input is entered three times instead of raising RetryLimitException \n",
    "exception. The function return hello as response. "
   ]
  }
 ],
 "metadata": {
  "kernelspec": {
   "display_name": "Python 3 (ipykernel)",
   "language": "python",
   "name": "python3"
  },
  "language_info": {
   "codemirror_mode": {
    "name": "ipython",
    "version": 3
   },
   "file_extension": ".py",
   "mimetype": "text/x-python",
   "name": "python",
   "nbconvert_exporter": "python",
   "pygments_lexer": "ipython3",
   "version": "3.9.12"
  }
 },
 "nbformat": 4,
 "nbformat_minor": 5
}
