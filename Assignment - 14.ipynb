{
 "cells": [
  {
   "cell_type": "raw",
   "metadata": {},
   "source": [
    "Q1. What does RGBA stand for?\n",
    "Ans - RGBA stands for RED GREEN BLUE ALPHA.\n",
    "Q2. From the Pillow module, how do you get the RGBA value of any images?\n",
    "Ans - Pillow offers the ImageColor.getcolor() function.This function takes a color name string as its first argument, and the string 'RGBA' as its second argument, and it returns an RGBA tuple.\n",
    "Q3. What is a box tuple, and how does it work?\n",
    "Ans - Many of Pillow's functions and methods take a box tuple argument. This means Pillow is expecting a tuple of four integer coordinates that represent a rectangular region in an image.\n",
    "Q4. Use your image and load in notebook then, How can you find out the width and height of an Image object?\n",
    "Ans - Find the image file in your Finder, right click the image and select Get Info. A pop-up window will open with the dimensions of your image displaying in the More Info section. The dimensions show the pixel height and width of your photo.\n",
    "Q5. What method would you call to get Image object for a 100×100 image, excluding the lower-left\n",
    "quarter of it?\n",
    "Ans - To get Image object for a 100×100 image, excluding the lower-left quarter of it call the resize() method.\n",
    "Q6. After making changes to an Image object, how could you save it as an image file?\n",
    "Ans- imageObj.save('filename.format')\n",
    "Q7. What module contains Pillow’s shape-drawing code?\n",
    "Ans - The ImageDraw module contains code to draw on images.ImageDraw objects have shape-drawing methods such as point(), line(), or rectangle(). They are returned by passing the Image object to the ImageDraw.Draw() function\"\n",
    "Q8. Image objects do not have drawing methods. What kind of object does? How do you get this kind of object?\n",
    "Ans - They have shape drawing methods like line(), point(), rectangle() we can call they by using ImageDraw.Draw() function."
   ]
  }
 ],
 "metadata": {
  "kernelspec": {
   "display_name": "Python 3",
   "language": "python",
   "name": "python3"
  },
  "language_info": {
   "codemirror_mode": {
    "name": "ipython",
    "version": 3
   },
   "file_extension": ".py",
   "mimetype": "text/x-python",
   "name": "python",
   "nbconvert_exporter": "python",
   "pygments_lexer": "ipython3",
   "version": "3.7.0"
  }
 },
 "nbformat": 4,
 "nbformat_minor": 2
}
