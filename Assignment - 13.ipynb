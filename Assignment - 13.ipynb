{
 "cells": [
  {
   "cell_type": "raw",
   "metadata": {},
   "source": [
    "Q1. What advantages do Excel spreadsheets have over CSV spreadsheets?\n",
    "Ans - Excel is more superior when compared with the CSV file format. CSV is a plain text format with a series of values separated by commas whereas Excel is a binary file that holds information about all the worksheets in a workbook.\n",
    "Q2. What do you pass to csv.reader() and csv.writer() to create reader and writer objects?\n",
    "Ans - First, call open() and pass it 'w' to open a file in write mode and pass it 'r' to open a file in read mode. This will create the object you can then pass to csv.\n",
    "Q3. What modes do File objects for reader and writer objects need to be opened in?\n",
    "Ans - In order to open a file for reading or writing purposes, we must use the built-in open() function. The open() function uses two arguments. First is the name of the file and second is for what purpose we want to open it .\n",
    "Q4. What method takes a list argument and writes it to a CSV file?\n",
    "Ans - writerows() function takes a list of iterables as parameter and writes each item as a comma separated line of items in the file.\n",
    "Q5. What do the keyword arguments delimiter and line terminator do?\n",
    "Ans - The line terminator is the character that comes at the end of a row. By default, the line terminator is a newline. You can change characters to different values by using the delimiter and lineterminator keyword arguments with csv. writer()\n",
    "Q6. What function takes a string of JSON data and returns a Python data structure?\n",
    "Ans - loads() method return Python data structure of JSON string or data.\n",
    "Q7. What function takes a Python data structure and returns a string of JSON data?\n",
    "Ans - loads() method return Python data structure of JSON string or data."
   ]
  }
 ],
 "metadata": {
  "kernelspec": {
   "display_name": "Python 3",
   "language": "python",
   "name": "python3"
  },
  "language_info": {
   "codemirror_mode": {
    "name": "ipython",
    "version": 3
   },
   "file_extension": ".py",
   "mimetype": "text/x-python",
   "name": "python",
   "nbconvert_exporter": "python",
   "pygments_lexer": "ipython3",
   "version": "3.7.0"
  }
 },
 "nbformat": 4,
 "nbformat_minor": 2
}
