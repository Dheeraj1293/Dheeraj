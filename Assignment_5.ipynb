{
 "cells": [
  {
   "cell_type": "raw",
   "metadata": {},
   "source": [
    "1. What does an empty dictionary's code look like?\n",
    "Ans - An empty dictionary can be created by just placing curly braces.\n",
    "2. What is the value of a dictionary value with the key 'foo' and the value 42?\n",
    "Ans - dictionary = {'foo':42}\n",
    "3. What is the most significant distinction between a dictionary and a list?\n",
    "Ans - Lists are an array of values whereas dictionaries are a key value store.The items in dictionaries are accessed via keys \n",
    "      and not via their position.\n",
    "4. What happens if you try to access spam['foo'] if spam is {'bar': 100}?\n",
    "Ans - The key 'foo' is not defined, so the program fails.\n",
    "5. If a dictionary is stored in spam, what is the difference between the expressions 'cat' in spam and\n",
    "'cat' in spam.keys()?\n",
    "Ans - There is no difference. In both the cases checks whether there is a 'cat' key in the dictionary or not.\n",
    "6. If a dictionary is stored in spam, what is the difference between the expressions 'cat' in spam and 'cat' in spam.values()?\n",
    "Ans - In case of 'cat' in spam it checks whether there is a 'cat' key in the dictionary and in case of 'cat' in spam.values()\n",
    "      checks whether 'cat' is the value of any key.\n",
    "7. What is a shortcut for the following code?\n",
    "if 'color' not in spam:\n",
    "spam['color'] = 'black'\n",
    "Ans - spam.setdefault('color', 'black')\n",
    "8. How do you 'pretty print' dictionary values using which module and function?\n",
    "Ans - pprint.pprint()"
   ]
  }
 ],
 "metadata": {
  "kernelspec": {
   "display_name": "Python 3",
   "language": "python",
   "name": "python3"
  },
  "language_info": {
   "codemirror_mode": {
    "name": "ipython",
    "version": 3
   },
   "file_extension": ".py",
   "mimetype": "text/x-python",
   "name": "python",
   "nbconvert_exporter": "python",
   "pygments_lexer": "ipython3",
   "version": "3.7.0"
  }
 },
 "nbformat": 4,
 "nbformat_minor": 2
}
