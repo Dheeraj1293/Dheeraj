{
 "cells": [
  {
   "cell_type": "raw",
   "id": "14bb8830",
   "metadata": {},
   "source": [
    "Q1. To what does a relative path refer?"
   ]
  },
  {
   "cell_type": "raw",
   "id": "ebbb6085",
   "metadata": {},
   "source": [
    "Relative paths are related to the current working directory."
   ]
  },
  {
   "cell_type": "raw",
   "id": "a108e040",
   "metadata": {},
   "source": [
    "Q2. What does an absolute path start with your operating system?"
   ]
  },
  {
   "cell_type": "raw",
   "id": "1b696d5b",
   "metadata": {},
   "source": [
    "Absolute path start with root folder, such as / or C."
   ]
  },
  {
   "cell_type": "raw",
   "id": "d245a5a9",
   "metadata": {},
   "source": [
    "Q3. What do the functions os.getcwd() and os.chdir() do?"
   ]
  },
  {
   "cell_type": "raw",
   "id": "2431dcaf",
   "metadata": {},
   "source": [
    "On windows, it evaluates to WindowsPath('C:/Users/AI'). On other OS, it evaluates to a different kind of path object \n",
    "but with same path"
   ]
  },
  {
   "cell_type": "raw",
   "id": "c9664f9c",
   "metadata": {},
   "source": [
    "Q4. What are the . and .. folders?"
   ]
  },
  {
   "cell_type": "raw",
   "id": "cacd28e5",
   "metadata": {},
   "source": [
    "The . folder is current folder and .. folder is parent folder."
   ]
  },
  {
   "cell_type": "raw",
   "id": "eb9d0bfd",
   "metadata": {},
   "source": [
    "Q5. In C:\\bacon\\eggs\\spam.txt, which part is the dir name, and which part is the base name?"
   ]
  },
  {
   "cell_type": "raw",
   "id": "590a8579",
   "metadata": {},
   "source": [
    "C:\\bacon\\eggs is the directory name, while spam.txt is the base name."
   ]
  },
  {
   "cell_type": "raw",
   "id": "4d20f1a5",
   "metadata": {},
   "source": [
    "Q6. What are the three “mode” arguments that can be passed to the open() function?"
   ]
  },
  {
   "cell_type": "raw",
   "id": "7579c211",
   "metadata": {},
   "source": [
    "The string 'r' for read mode, 'w' for write mode and 'a' for append mode."
   ]
  },
  {
   "cell_type": "raw",
   "id": "ea78d611",
   "metadata": {},
   "source": [
    "Q7. What happens if an existing file is opened in write mode?"
   ]
  },
  {
   "cell_type": "raw",
   "id": "a7c98c54",
   "metadata": {},
   "source": [
    "Is erased and completely overwritten."
   ]
  },
  {
   "cell_type": "raw",
   "id": "68290e70",
   "metadata": {},
   "source": [
    "Q8. How do you tell the difference between read() and readlines()?"
   ]
  },
  {
   "cell_type": "raw",
   "id": "b4bfad62",
   "metadata": {},
   "source": [
    "The read() method returns the file's entire contents as a single string value.The readline() method returns a list of strings, \n",
    "where each string is a line from the file's contents."
   ]
  },
  {
   "cell_type": "raw",
   "id": "a2cbdb39",
   "metadata": {},
   "source": [
    "Q9. What data structure does a shelf value resemble?"
   ]
  },
  {
   "cell_type": "raw",
   "id": "2c052866",
   "metadata": {},
   "source": [
    "It resembles a dictionary value, it has keys and values, along with keys() and values() methods that work similarly to the \n",
    "dictionary methods of the same names."
   ]
  }
 ],
 "metadata": {
  "kernelspec": {
   "display_name": "Python 3 (ipykernel)",
   "language": "python",
   "name": "python3"
  },
  "language_info": {
   "codemirror_mode": {
    "name": "ipython",
    "version": 3
   },
   "file_extension": ".py",
   "mimetype": "text/x-python",
   "name": "python",
   "nbconvert_exporter": "python",
   "pygments_lexer": "ipython3",
   "version": "3.9.12"
  }
 },
 "nbformat": 4,
 "nbformat_minor": 5
}
