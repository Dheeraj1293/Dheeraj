{
 "cells": [
  {
   "cell_type": "raw",
   "id": "e30645fc",
   "metadata": {},
   "source": [
    "Q1. Write a Python Program to Add Two Matrices?"
   ]
  },
  {
   "cell_type": "code",
   "execution_count": 7,
   "id": "d49fe8a3",
   "metadata": {},
   "outputs": [
    {
     "name": "stdout",
     "output_type": "stream",
     "text": [
      "[3, 3, 3, 3]\n",
      "[5, 4, 10, 9]\n",
      "[3, 4, 5, 6]\n"
     ]
    }
   ],
   "source": [
    "X=[[1,1,1,1],\n",
    "   [2,1,7,6],\n",
    "  [2,3,4,5]]\n",
    "Y=[[2,2,2,2],\n",
    "   [3,3,3,3],\n",
    "   [1,1,1,1]]\n",
    "R=[[0,0,0,0],\n",
    "   [0,0,0,0],\n",
    "   [0,0,0,0]]\n",
    "\n",
    "for i in range(len(X)):\n",
    "    for j in range(len(X[i])):\n",
    "        R[i][j]=X[i][j]+Y[i][j]\n",
    "\n",
    "for r in R:\n",
    "    print(r)"
   ]
  },
  {
   "cell_type": "raw",
   "id": "dde573c2",
   "metadata": {},
   "source": [
    "Q2. Write a Python Program to Multiply Two Matrices?"
   ]
  },
  {
   "cell_type": "code",
   "execution_count": 8,
   "id": "a01e949f",
   "metadata": {},
   "outputs": [
    {
     "name": "stdout",
     "output_type": "stream",
     "text": [
      "[2, 2, 2, 2]\n",
      "[6, 6, 6, 6]\n",
      "[12, 12, 12, 12]\n"
     ]
    }
   ],
   "source": [
    "A=[[1,1,1,1],\n",
    "   [2,2,2,2],\n",
    "   [3,3,3,3]]\n",
    "B=[[2,2,2,2],\n",
    "   [3,3,3,3],\n",
    "   [4,4,4,4]]\n",
    "C=[[0,0,0,0],\n",
    "   [0,0,0,0],\n",
    "   [0,0,0,0]]\n",
    "\n",
    "for i in range(len(A)):\n",
    "    for j in range(len(A[i])):\n",
    "        C[i][j]=A[i][j]*B[i][j]\n",
    "for d in C:\n",
    "    print(d)"
   ]
  },
  {
   "cell_type": "raw",
   "id": "a43af370",
   "metadata": {},
   "source": [
    "Q3. Write a Python Program to Transpose a Matrix"
   ]
  },
  {
   "cell_type": "code",
   "execution_count": 12,
   "id": "88e6c05f",
   "metadata": {},
   "outputs": [
    {
     "name": "stdout",
     "output_type": "stream",
     "text": [
      "[1, 3, 4]\n",
      "[2, 4, 5]\n",
      "[3, 5, 6]\n"
     ]
    }
   ],
   "source": [
    "M = [[1,2,3],\n",
    "     [3,4,5],\n",
    "     [4,5,6]]\n",
    "T= [[0,0,0],\n",
    "    [0,0,0],\n",
    "    [0,0,0]]\n",
    "for i in range(len(M)):\n",
    "    for j in range(len(M[i])):\n",
    "        T[j][i]=M[i][j]\n",
    "for trans in T:\n",
    "    print(trans)"
   ]
  },
  {
   "cell_type": "raw",
   "id": "9d39539f",
   "metadata": {},
   "source": [
    "Q4. Write a Python Program to Sort Words in Alphabetic Order?"
   ]
  },
  {
   "cell_type": "code",
   "execution_count": 13,
   "id": "ae532a19",
   "metadata": {},
   "outputs": [
    {
     "name": "stdout",
     "output_type": "stream",
     "text": [
      "['aux', 'bat', 'cat', 'dog']\n"
     ]
    }
   ],
   "source": [
    "lis = ['cat','aux','dog','bat']\n",
    "lis.sort()\n",
    "print(lis)"
   ]
  },
  {
   "cell_type": "raw",
   "id": "0d9b6eea",
   "metadata": {},
   "source": [
    "Q5. Write a Python Program to Remove Punctuation From a String?"
   ]
  },
  {
   "cell_type": "code",
   "execution_count": 14,
   "id": "43c429a8",
   "metadata": {},
   "outputs": [
    {
     "name": "stdout",
     "output_type": "stream",
     "text": [
      "Dheeraj\n"
     ]
    }
   ],
   "source": [
    "punctuation='''?~@%'''\n",
    "string=\"~Dheera?@j%\"\n",
    "for char in string:\n",
    "    if char in punctuation:\n",
    "        string=string.replace(char,\"\")\n",
    "print(string)"
   ]
  }
 ],
 "metadata": {
  "kernelspec": {
   "display_name": "Python 3 (ipykernel)",
   "language": "python",
   "name": "python3"
  },
  "language_info": {
   "codemirror_mode": {
    "name": "ipython",
    "version": 3
   },
   "file_extension": ".py",
   "mimetype": "text/x-python",
   "name": "python",
   "nbconvert_exporter": "python",
   "pygments_lexer": "ipython3",
   "version": "3.9.12"
  }
 },
 "nbformat": 4,
 "nbformat_minor": 5
}
